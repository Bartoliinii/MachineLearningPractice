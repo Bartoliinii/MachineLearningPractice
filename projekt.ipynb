{
 "cells": [
  {
   "cell_type": "markdown",
   "metadata": {},
   "source": [
    "Dataset used in this notebook was created by \"Satoshi Datamoto\". It could be found on kaggle website, however it is no longer avalible.\n",
    "\n",
    "link to the non existing dataset: https://www.kaggle.com/datasets/satoshidatamoto/crowdflower-brands-and-products-emotion-datasete/downlsatoshidatamotooad/lrnQl6c3hXt2j5LWa0m1%2Fversions%2FmoYF6rd8AS3WvnQw0hS3%2Ffiles%2Fjudge-1377884607_tweet_product_company.csv?datasetVersionNumber=2\n",
    "\n",
    "It's still avalible at my project on Github: "
   ]
  },
  {
   "cell_type": "markdown",
   "metadata": {},
   "source": [
    "# Brands and products emotion dataset analisys "
   ]
  },
  {
   "cell_type": "code",
   "execution_count": 7,
   "metadata": {},
   "outputs": [],
   "source": [
    "#Importing important stuff\n",
    "\n",
    "import nltk\n",
    "import sklearn\n",
    "import string\n",
    "import re\n",
    "import keras\n",
    "\n",
    "import pandas as pd\n",
    "import numpy as np\n",
    "\n",
    "import matplotlib.pyplot as plt\n",
    "import seaborn as sns\n",
    "\n",
    "import tensorflow as tf\n",
    "import tensorflow_hub as hub\n",
    "import tensorflow_datasets as tfds"
   ]
  },
  {
   "cell_type": "code",
   "execution_count": 8,
   "metadata": {},
   "outputs": [],
   "source": [
    "#Loading in dataset\n",
    "path_to_dataset = 'tweets.csv'\n",
    "df = pd.read_csv(path_to_dataset, dtype=str)"
   ]
  },
  {
   "cell_type": "code",
   "execution_count": 9,
   "metadata": {},
   "outputs": [
    {
     "data": {
      "text/html": [
       "<div>\n",
       "<style scoped>\n",
       "    .dataframe tbody tr th:only-of-type {\n",
       "        vertical-align: middle;\n",
       "    }\n",
       "\n",
       "    .dataframe tbody tr th {\n",
       "        vertical-align: top;\n",
       "    }\n",
       "\n",
       "    .dataframe thead th {\n",
       "        text-align: right;\n",
       "    }\n",
       "</style>\n",
       "<table border=\"1\" class=\"dataframe\">\n",
       "  <thead>\n",
       "    <tr style=\"text-align: right;\">\n",
       "      <th></th>\n",
       "      <th>tweet_text</th>\n",
       "      <th>products</th>\n",
       "      <th>emotions</th>\n",
       "    </tr>\n",
       "    <tr>\n",
       "      <th>index</th>\n",
       "      <th></th>\n",
       "      <th></th>\n",
       "      <th></th>\n",
       "    </tr>\n",
       "  </thead>\n",
       "  <tbody>\n",
       "    <tr>\n",
       "      <th>0</th>\n",
       "      <td>.@wesley83 I have a 3G iPhone. After 3 hrs twe...</td>\n",
       "      <td>iPhone</td>\n",
       "      <td>Negative emotion</td>\n",
       "    </tr>\n",
       "    <tr>\n",
       "      <th>1</th>\n",
       "      <td>@jessedee Know about @fludapp ? Awesome iPad/i...</td>\n",
       "      <td>iPad or iPhone App</td>\n",
       "      <td>Positive emotion</td>\n",
       "    </tr>\n",
       "    <tr>\n",
       "      <th>2</th>\n",
       "      <td>@swonderlin Can not wait for #iPad 2 also. The...</td>\n",
       "      <td>iPad</td>\n",
       "      <td>Positive emotion</td>\n",
       "    </tr>\n",
       "    <tr>\n",
       "      <th>3</th>\n",
       "      <td>@sxsw I hope this year's festival isn't as cra...</td>\n",
       "      <td>iPad or iPhone App</td>\n",
       "      <td>Negative emotion</td>\n",
       "    </tr>\n",
       "    <tr>\n",
       "      <th>4</th>\n",
       "      <td>@sxtxstate great stuff on Fri #SXSW: Marissa M...</td>\n",
       "      <td>Google</td>\n",
       "      <td>Positive emotion</td>\n",
       "    </tr>\n",
       "    <tr>\n",
       "      <th>...</th>\n",
       "      <td>...</td>\n",
       "      <td>...</td>\n",
       "      <td>...</td>\n",
       "    </tr>\n",
       "    <tr>\n",
       "      <th>9088</th>\n",
       "      <td>Ipad everywhere. #SXSW {link}</td>\n",
       "      <td>iPad</td>\n",
       "      <td>Positive emotion</td>\n",
       "    </tr>\n",
       "    <tr>\n",
       "      <th>9089</th>\n",
       "      <td>Wave, buzz... RT @mention We interrupt your re...</td>\n",
       "      <td>NaN</td>\n",
       "      <td>No emotion toward brand or product</td>\n",
       "    </tr>\n",
       "    <tr>\n",
       "      <th>9090</th>\n",
       "      <td>Google's Zeiger, a physician never reported po...</td>\n",
       "      <td>NaN</td>\n",
       "      <td>No emotion toward brand or product</td>\n",
       "    </tr>\n",
       "    <tr>\n",
       "      <th>9091</th>\n",
       "      <td>Some Verizon iPhone customers complained their...</td>\n",
       "      <td>NaN</td>\n",
       "      <td>No emotion toward brand or product</td>\n",
       "    </tr>\n",
       "    <tr>\n",
       "      <th>9092</th>\n",
       "      <td>Ï¡Ïàü_ÊÎÒ£Áââ_£â_ÛâRT @...</td>\n",
       "      <td>NaN</td>\n",
       "      <td>No emotion toward brand or product</td>\n",
       "    </tr>\n",
       "  </tbody>\n",
       "</table>\n",
       "<p>9066 rows × 3 columns</p>\n",
       "</div>"
      ],
      "text/plain": [
       "                                              tweet_text            products  \\\n",
       "index                                                                          \n",
       "0      .@wesley83 I have a 3G iPhone. After 3 hrs twe...              iPhone   \n",
       "1      @jessedee Know about @fludapp ? Awesome iPad/i...  iPad or iPhone App   \n",
       "2      @swonderlin Can not wait for #iPad 2 also. The...                iPad   \n",
       "3      @sxsw I hope this year's festival isn't as cra...  iPad or iPhone App   \n",
       "4      @sxtxstate great stuff on Fri #SXSW: Marissa M...              Google   \n",
       "...                                                  ...                 ...   \n",
       "9088                       Ipad everywhere. #SXSW {link}                iPad   \n",
       "9089   Wave, buzz... RT @mention We interrupt your re...                 NaN   \n",
       "9090   Google's Zeiger, a physician never reported po...                 NaN   \n",
       "9091   Some Verizon iPhone customers complained their...                 NaN   \n",
       "9092   Ï¡Ïàü_ÊÎÒ£Áââ_£â_ÛâRT @...                 NaN   \n",
       "\n",
       "                                 emotions  \n",
       "index                                      \n",
       "0                        Negative emotion  \n",
       "1                        Positive emotion  \n",
       "2                        Positive emotion  \n",
       "3                        Negative emotion  \n",
       "4                        Positive emotion  \n",
       "...                                   ...  \n",
       "9088                     Positive emotion  \n",
       "9089   No emotion toward brand or product  \n",
       "9090   No emotion toward brand or product  \n",
       "9091   No emotion toward brand or product  \n",
       "9092   No emotion toward brand or product  \n",
       "\n",
       "[9066 rows x 3 columns]"
      ]
     },
     "execution_count": 9,
     "metadata": {},
     "output_type": "execute_result"
    }
   ],
   "source": [
    "df = df.rename(columns = {'emotion_in_tweet_is_directed_at':'products', 'is_there_an_emotion_directed_at_a_brand_or_product':'emotions'})\n",
    "df = df.set_index('index')\n",
    "\n",
    "#dropping duplicates\n",
    "df.drop_duplicates(subset=['tweet_text'])"
   ]
  },
  {
   "cell_type": "markdown",
   "metadata": {},
   "source": [
    "## Entry analisys"
   ]
  },
  {
   "cell_type": "code",
   "execution_count": 10,
   "metadata": {},
   "outputs": [
    {
     "data": {
      "text/html": [
       "<div>\n",
       "<style scoped>\n",
       "    .dataframe tbody tr th:only-of-type {\n",
       "        vertical-align: middle;\n",
       "    }\n",
       "\n",
       "    .dataframe tbody tr th {\n",
       "        vertical-align: top;\n",
       "    }\n",
       "\n",
       "    .dataframe thead th {\n",
       "        text-align: right;\n",
       "    }\n",
       "</style>\n",
       "<table border=\"1\" class=\"dataframe\">\n",
       "  <thead>\n",
       "    <tr style=\"text-align: right;\">\n",
       "      <th></th>\n",
       "      <th>tweet_text</th>\n",
       "      <th>products</th>\n",
       "      <th>emotions</th>\n",
       "    </tr>\n",
       "  </thead>\n",
       "  <tbody>\n",
       "    <tr>\n",
       "      <th>count</th>\n",
       "      <td>9092</td>\n",
       "      <td>3291</td>\n",
       "      <td>9093</td>\n",
       "    </tr>\n",
       "    <tr>\n",
       "      <th>unique</th>\n",
       "      <td>9065</td>\n",
       "      <td>9</td>\n",
       "      <td>4</td>\n",
       "    </tr>\n",
       "    <tr>\n",
       "      <th>top</th>\n",
       "      <td>RT @mention Marissa Mayer: Google Will Connect...</td>\n",
       "      <td>iPad</td>\n",
       "      <td>No emotion toward brand or product</td>\n",
       "    </tr>\n",
       "    <tr>\n",
       "      <th>freq</th>\n",
       "      <td>5</td>\n",
       "      <td>946</td>\n",
       "      <td>5389</td>\n",
       "    </tr>\n",
       "  </tbody>\n",
       "</table>\n",
       "</div>"
      ],
      "text/plain": [
       "                                               tweet_text products  \\\n",
       "count                                                9092     3291   \n",
       "unique                                               9065        9   \n",
       "top     RT @mention Marissa Mayer: Google Will Connect...     iPad   \n",
       "freq                                                    5      946   \n",
       "\n",
       "                                  emotions  \n",
       "count                                 9093  \n",
       "unique                                   4  \n",
       "top     No emotion toward brand or product  \n",
       "freq                                  5389  "
      ]
     },
     "execution_count": 10,
     "metadata": {},
     "output_type": "execute_result"
    }
   ],
   "source": [
    "df.describe()"
   ]
  },
  {
   "cell_type": "code",
   "execution_count": 11,
   "metadata": {},
   "outputs": [
    {
     "data": {
      "text/html": [
       "<div>\n",
       "<style scoped>\n",
       "    .dataframe tbody tr th:only-of-type {\n",
       "        vertical-align: middle;\n",
       "    }\n",
       "\n",
       "    .dataframe tbody tr th {\n",
       "        vertical-align: top;\n",
       "    }\n",
       "\n",
       "    .dataframe thead th {\n",
       "        text-align: right;\n",
       "    }\n",
       "</style>\n",
       "<table border=\"1\" class=\"dataframe\">\n",
       "  <thead>\n",
       "    <tr style=\"text-align: right;\">\n",
       "      <th></th>\n",
       "      <th>tweet_text</th>\n",
       "      <th>products</th>\n",
       "      <th>emotions</th>\n",
       "    </tr>\n",
       "    <tr>\n",
       "      <th>index</th>\n",
       "      <th></th>\n",
       "      <th></th>\n",
       "      <th></th>\n",
       "    </tr>\n",
       "  </thead>\n",
       "  <tbody>\n",
       "    <tr>\n",
       "      <th>0</th>\n",
       "      <td>.@wesley83 I have a 3G iPhone. After 3 hrs twe...</td>\n",
       "      <td>iPhone</td>\n",
       "      <td>Negative emotion</td>\n",
       "    </tr>\n",
       "    <tr>\n",
       "      <th>1</th>\n",
       "      <td>@jessedee Know about @fludapp ? Awesome iPad/i...</td>\n",
       "      <td>iPad or iPhone App</td>\n",
       "      <td>Positive emotion</td>\n",
       "    </tr>\n",
       "    <tr>\n",
       "      <th>2</th>\n",
       "      <td>@swonderlin Can not wait for #iPad 2 also. The...</td>\n",
       "      <td>iPad</td>\n",
       "      <td>Positive emotion</td>\n",
       "    </tr>\n",
       "    <tr>\n",
       "      <th>3</th>\n",
       "      <td>@sxsw I hope this year's festival isn't as cra...</td>\n",
       "      <td>iPad or iPhone App</td>\n",
       "      <td>Negative emotion</td>\n",
       "    </tr>\n",
       "    <tr>\n",
       "      <th>4</th>\n",
       "      <td>@sxtxstate great stuff on Fri #SXSW: Marissa M...</td>\n",
       "      <td>Google</td>\n",
       "      <td>Positive emotion</td>\n",
       "    </tr>\n",
       "  </tbody>\n",
       "</table>\n",
       "</div>"
      ],
      "text/plain": [
       "                                              tweet_text            products  \\\n",
       "index                                                                          \n",
       "0      .@wesley83 I have a 3G iPhone. After 3 hrs twe...              iPhone   \n",
       "1      @jessedee Know about @fludapp ? Awesome iPad/i...  iPad or iPhone App   \n",
       "2      @swonderlin Can not wait for #iPad 2 also. The...                iPad   \n",
       "3      @sxsw I hope this year's festival isn't as cra...  iPad or iPhone App   \n",
       "4      @sxtxstate great stuff on Fri #SXSW: Marissa M...              Google   \n",
       "\n",
       "               emotions  \n",
       "index                    \n",
       "0      Negative emotion  \n",
       "1      Positive emotion  \n",
       "2      Positive emotion  \n",
       "3      Negative emotion  \n",
       "4      Positive emotion  "
      ]
     },
     "execution_count": 11,
     "metadata": {},
     "output_type": "execute_result"
    }
   ],
   "source": [
    "df.head()"
   ]
  },
  {
   "cell_type": "code",
   "execution_count": 12,
   "metadata": {},
   "outputs": [
    {
     "data": {
      "image/png": "[encoded data removed]",
      "text/plain": [
       "<Figure size 1440x1440 with 2 Axes>"
      ]
     },
     "metadata": {},
     "output_type": "display_data"
    }
   ],
   "source": [
    "products= df['products'].value_counts(dropna=False)\n",
    "emotions=df['emotions'].value_counts(dropna=False)\n",
    "\n",
    "distance = [0.2 for i in products]\n",
    "labels = ['' for i in products]\n",
    "colors = sns.color_palette('deep')\n",
    "\n",
    "fig = plt.figure(figsize=(20,20))\n",
    "\n",
    "\n",
    "fig.add_subplot(1,2,1)\n",
    "ax = products.plot.pie(autopct='%1.1f%%', colors=colors, explode=distance, grid=False, pctdistance=0.90)\n",
    "\n",
    "fig.add_subplot(1,2,2)\n",
    "ax3 = df.emotions.value_counts(dropna=False)\n",
    "distanceEmotions = [0.05 for i in ax3]\n",
    "ax3.plot.pie(autopct='%1.1f%%', colors=colors, explode=distanceEmotions, grid=False, pctdistance=0.90)\n",
    "\n",
    "fig.tight_layout()\n",
    "plt.show()"
   ]
  },
  {
   "cell_type": "markdown",
   "metadata": {},
   "source": [
    "As we can see, there is a lot of unassigned data, in both emotions and products columns. It is an undesirable state of the dataset because unassigned data is useless if we are willing to use supervised learning algorithms for machine learning. Unbalanced data is also a problem, especially in the 'Emotions' column – we can see an overwhelming amount of one feature in the dataset. \n",
    "If we would try to train an ML model on unbalanced data, we would overfit it to classify most of the occurrences of the dominant feature.\n",
    " \n",
    "What can we do to prevent such a thing? Well, we can balance our data set.\n",
    "\n",
    "Basically, in this case, we will try to match the size of the smallest feature in our data set. In the case of the 'Emotions' column that would mean fitting the size of the 'Positive emotion' feature to the size of the 'Negative emotion' feature. Quick math: 6.3% of 9093 is 572, which means that we should only use 572 examples from 'Positive Emotions' (we don't want to use 'No Emotions' because this won't help us with determinating if a tweet is positive or negative, neither 'Can't tell' column will help us with this task).\n",
    "\n",
    "This is not a lot of data to go off from, however, there are some ML algorithms that could do just fine with this amount, HOWEVER it depends on the cleanness of data, that we are working with. If there is a lot of noice, machine learning will be useless."
   ]
  },
  {
   "cell_type": "code",
   "execution_count": 13,
   "metadata": {},
   "outputs": [],
   "source": [
    "throw_away = df.loc[df.emotions.isin([\"No emotion toward brand or product\",\"I can't tell\"])].index\n",
    "df.drop(throw_away, inplace=True)\n",
    "\n",
    "emotions_count = df.emotions.value_counts()\n",
    "procentage = int(100 - (emotions_count[1]*100)/emotions_count[0]) * 0.01\n",
    "\n",
    "positive_emotion  = df.loc[df['emotions'] == \"Positive emotion\"]\n",
    "index_possitive = positive_emotion.sample(frac=procentage).index\n",
    "df.drop(index_possitive, inplace=True)"
   ]
  },
  {
   "cell_type": "code",
   "execution_count": 14,
   "metadata": {},
   "outputs": [],
   "source": [
    "#Creating additional data for more information\n",
    "df[\"tweet_length\"] = df[\"tweet_text\"].apply(lambda x: len(x))\n",
    "df[\"one_hot_vector\"] = df[\"emotions\"].apply(lambda x: 1 if x == \"Positive emotion\" else 0)\n",
    "df[\"punctuation\"] = df[\"tweet_text\"].apply(lambda x: x.count('!' or '.' or '?'))"
   ]
  },
  {
   "cell_type": "code",
   "execution_count": 15,
   "metadata": {},
   "outputs": [
    {
     "data": {
      "image/png": "[encoded data removed]",
      "text/plain": [
       "<Figure size 1440x1440 with 2 Axes>"
      ]
     },
     "metadata": {},
     "output_type": "display_data"
    }
   ],
   "source": [
    "products=df['products'].value_counts(dropna=False)\n",
    "emotions=df['emotions'].value_counts(dropna=False)\n",
    "\n",
    "distance = [0.1 for i in products]\n",
    "labels = ['' for i in products]\n",
    "colors = sns.color_palette('deep')\n",
    "\n",
    "fig = plt.figure(figsize=(20,20))\n",
    "fig.add_subplot(1,2,1)\n",
    "ax = products.plot.pie(autopct='%1.1f%%', colors=colors, explode=distance, grid=False, pctdistance=0.90)\n",
    "\n",
    "\n",
    "fig.add_subplot(1,2,2)\n",
    "ax3 = df.emotions.value_counts(dropna=False)\n",
    "distanceEmotions = [0.05 for i in ax3]\n",
    "ax3.plot.pie(autopct='%1.1f%%', colors=colors, explode=distanceEmotions, grid=False, pctdistance=0.90)\n",
    "\n",
    "fig.tight_layout()\n",
    "plt.show()"
   ]
  },
  {
   "cell_type": "markdown",
   "metadata": {},
   "source": [
    "This looks better! Now we can further analyse newly created features to see if there is any correlation between the length of a tweet and its emotional expression. We'll do the same with punctiuation count of the tweets."
   ]
  },
  {
   "cell_type": "code",
   "execution_count": 16,
   "metadata": {},
   "outputs": [
    {
     "data": {
      "image/png": "[encoded data removed]",
      "text/plain": [
       "<Figure size 720x720 with 2 Axes>"
      ]
     },
     "metadata": {
      "needs_background": "light"
     },
     "output_type": "display_data"
    }
   ],
   "source": [
    "\n",
    "plt.figure(figsize=(10,10))\n",
    "hm = sns.heatmap(df.corr(), annot = True)\n",
    "hm.set_yticklabels(hm.get_yticklabels(), rotation=0, horizontalalignment='right')\n",
    "plt.show()"
   ]
  },
  {
   "cell_type": "markdown",
   "metadata": {},
   "source": [
    "There is close to none apparent correlation between a tweet's length nor the number of punctuations contained in it, and its emotional outlook. We can drop those tables because they wont bring a lot of additional information to learn from."
   ]
  },
  {
   "cell_type": "code",
   "execution_count": 17,
   "metadata": {},
   "outputs": [],
   "source": [
    "df = df.drop([\"tweet_length\", \"punctuation\"], axis=1)"
   ]
  },
  {
   "cell_type": "markdown",
   "metadata": {},
   "source": [
    "Let's see how many different products positive and negative tweets describe."
   ]
  },
  {
   "cell_type": "code",
   "execution_count": 18,
   "metadata": {},
   "outputs": [
    {
     "data": {
      "text/plain": [
       "iPad                               150\n",
       "Apple                              114\n",
       "iPad or iPhone App                  76\n",
       "Google                              71\n",
       "Other Google product or service     52\n",
       "iPhone                              30\n",
       "Android                             21\n",
       "Android App                         13\n",
       "Other Apple product or service       6\n",
       "Name: products, dtype: int64"
      ]
     },
     "execution_count": 18,
     "metadata": {},
     "output_type": "execute_result"
    }
   ],
   "source": [
    "df[\"products\"].loc[df.emotions == \"Positive emotion\"].value_counts()"
   ]
  },
  {
   "cell_type": "code",
   "execution_count": 19,
   "metadata": {},
   "outputs": [
    {
     "data": {
      "text/plain": [
       "iPad                               125\n",
       "iPhone                             103\n",
       "Apple                               95\n",
       "Google                              68\n",
       "iPad or iPhone App                  63\n",
       "Other Google product or service     47\n",
       "Android                              8\n",
       "Android App                          8\n",
       "Other Apple product or service       2\n",
       "Name: products, dtype: int64"
      ]
     },
     "execution_count": 19,
     "metadata": {},
     "output_type": "execute_result"
    }
   ],
   "source": [
    "df[\"products\"].loc[df.emotions == \"Negative emotion\"].value_counts()"
   ]
  },
  {
   "cell_type": "markdown",
   "metadata": {},
   "source": [
    "Not ideal but pretty similar. We will also try to remove names of the brands from the tweets.\n",
    "\n",
    "Now let's prepare our dataset to be used in ML algorithms."
   ]
  },
  {
   "cell_type": "markdown",
   "metadata": {},
   "source": [
    "## Text normalization"
   ]
  },
  {
   "cell_type": "code",
   "execution_count": 20,
   "metadata": {},
   "outputs": [],
   "source": [
    "dfRaw = df.copy()\n",
    "df.tweet_text = df.tweet_text.astype(str)"
   ]
  },
  {
   "cell_type": "code",
   "execution_count": 21,
   "metadata": {},
   "outputs": [],
   "source": [
    "def cleanseText(textColumn):\n",
    "    textColumn = textColumn.apply(lambda x: re.sub(\"@\\w+|#\\w+\",\"\",x))\n",
    "    textColumn = textColumn.apply(lambda x: re.sub(r'{link}','',x))\n",
    "    textColumn = textColumn.apply(lambda x: re.sub(\".iphone.|.ipad.|.google.|.app.|.android.|.samsung.|.apple.\",\"\",x))\n",
    "    textColumn = textColumn.apply(lambda x: re.sub(r'\\w*\\d+\\w*','',x))\n",
    "    textColumn = textColumn.apply(lambda x: x.translate(str.maketrans('', '', string.punctuation)))\n",
    "    textColumn = textColumn.apply(lambda x: x.strip())\n",
    "\n",
    "    return textColumn"
   ]
  },
  {
   "cell_type": "code",
   "execution_count": 23,
   "metadata": {},
   "outputs": [],
   "source": [
    "#changing the formatting of the text to lower case\n",
    "df.tweet_text = df.tweet_text.apply(lambda x: x.lower())\n",
    "\n",
    "#preparing a dictionary of useless word\n",
    "stop_words = set(nltk.corpus.stopwords.words('english'))\n",
    "stop_words.remove('not')\n",
    "stop_words.remove('nor')\n",
    "stop_words.remove('no')\n",
    "\n",
    "#cleansing text from anomalies like links, nicknames etc...\n",
    "df[\"tweet_text\"] = cleanseText(df.tweet_text)\n",
    "\n",
    "#removing stopwords like em, or, and...\n",
    "df[\"tweet_text\"] = df[\"tweet_text\"].apply(lambda x: \" \".join(x for x in x.split() if x not in stop_words))"
   ]
  },
  {
   "cell_type": "code",
   "execution_count": 24,
   "metadata": {},
   "outputs": [
    {
     "data": {
      "text/html": [
       "<div>\n",
       "<style scoped>\n",
       "    .dataframe tbody tr th:only-of-type {\n",
       "        vertical-align: middle;\n",
       "    }\n",
       "\n",
       "    .dataframe tbody tr th {\n",
       "        vertical-align: top;\n",
       "    }\n",
       "\n",
       "    .dataframe thead th {\n",
       "        text-align: right;\n",
       "    }\n",
       "</style>\n",
       "<table border=\"1\" class=\"dataframe\">\n",
       "  <thead>\n",
       "    <tr style=\"text-align: right;\">\n",
       "      <th></th>\n",
       "      <th>tweet_text</th>\n",
       "      <th>products</th>\n",
       "      <th>emotions</th>\n",
       "      <th>one_hot_vector</th>\n",
       "    </tr>\n",
       "    <tr>\n",
       "      <th>index</th>\n",
       "      <th></th>\n",
       "      <th></th>\n",
       "      <th></th>\n",
       "      <th></th>\n",
       "    </tr>\n",
       "  </thead>\n",
       "  <tbody>\n",
       "    <tr>\n",
       "      <th>0</th>\n",
       "      <td>hrs tweeting dead need upgrade plugin stations</td>\n",
       "      <td>iPhone</td>\n",
       "      <td>Negative emotion</td>\n",
       "      <td>0</td>\n",
       "    </tr>\n",
       "    <tr>\n",
       "      <th>1</th>\n",
       "      <td>know awesomeiphonethat youll likelyeciate desi...</td>\n",
       "      <td>iPad or iPhone App</td>\n",
       "      <td>Positive emotion</td>\n",
       "      <td>1</td>\n",
       "    </tr>\n",
       "    <tr>\n",
       "      <th>3</th>\n",
       "      <td>hope years festival isnt crashy yearsapp</td>\n",
       "      <td>iPad or iPhone App</td>\n",
       "      <td>Negative emotion</td>\n",
       "      <td>0</td>\n",
       "    </tr>\n",
       "    <tr>\n",
       "      <th>8</th>\n",
       "      <td>beautifully smart simple idea rt wrote app htt...</td>\n",
       "      <td>iPad or iPhone App</td>\n",
       "      <td>Positive emotion</td>\n",
       "      <td>1</td>\n",
       "    </tr>\n",
       "    <tr>\n",
       "      <th>14</th>\n",
       "      <td>great app httptinyurlcom</td>\n",
       "      <td>iPad or iPhone App</td>\n",
       "      <td>Positive emotion</td>\n",
       "      <td>1</td>\n",
       "    </tr>\n",
       "    <tr>\n",
       "      <th>...</th>\n",
       "      <td>...</td>\n",
       "      <td>...</td>\n",
       "      <td>...</td>\n",
       "      <td>...</td>\n",
       "    </tr>\n",
       "    <tr>\n",
       "      <th>9049</th>\n",
       "      <td>buy usedand ill pick one tomorrow</td>\n",
       "      <td>NaN</td>\n",
       "      <td>Positive emotion</td>\n",
       "      <td>1</td>\n",
       "    </tr>\n",
       "    <tr>\n",
       "      <th>9054</th>\n",
       "      <td>guys ever plan attending need things skinny je...</td>\n",
       "      <td>NaN</td>\n",
       "      <td>Positive emotion</td>\n",
       "      <td>1</td>\n",
       "    </tr>\n",
       "    <tr>\n",
       "      <th>9061</th>\n",
       "      <td>realize im still padless gave away case need w...</td>\n",
       "      <td>iPad</td>\n",
       "      <td>Positive emotion</td>\n",
       "      <td>1</td>\n",
       "    </tr>\n",
       "    <tr>\n",
       "      <th>9064</th>\n",
       "      <td>see line front thee store nothing like tech ge...</td>\n",
       "      <td>Apple</td>\n",
       "      <td>Positive emotion</td>\n",
       "      <td>1</td>\n",
       "    </tr>\n",
       "    <tr>\n",
       "      <th>9080</th>\n",
       "      <td>diller saystv quotmight run playstation xbox e...</td>\n",
       "      <td>Other Google product or service</td>\n",
       "      <td>Negative emotion</td>\n",
       "      <td>0</td>\n",
       "    </tr>\n",
       "  </tbody>\n",
       "</table>\n",
       "<p>1166 rows × 4 columns</p>\n",
       "</div>"
      ],
      "text/plain": [
       "                                              tweet_text  \\\n",
       "index                                                      \n",
       "0         hrs tweeting dead need upgrade plugin stations   \n",
       "1      know awesomeiphonethat youll likelyeciate desi...   \n",
       "3               hope years festival isnt crashy yearsapp   \n",
       "8      beautifully smart simple idea rt wrote app htt...   \n",
       "14                              great app httptinyurlcom   \n",
       "...                                                  ...   \n",
       "9049                   buy usedand ill pick one tomorrow   \n",
       "9054   guys ever plan attending need things skinny je...   \n",
       "9061   realize im still padless gave away case need w...   \n",
       "9064   see line front thee store nothing like tech ge...   \n",
       "9080   diller saystv quotmight run playstation xbox e...   \n",
       "\n",
       "                              products          emotions  one_hot_vector  \n",
       "index                                                                     \n",
       "0                               iPhone  Negative emotion               0  \n",
       "1                   iPad or iPhone App  Positive emotion               1  \n",
       "3                   iPad or iPhone App  Negative emotion               0  \n",
       "8                   iPad or iPhone App  Positive emotion               1  \n",
       "14                  iPad or iPhone App  Positive emotion               1  \n",
       "...                                ...               ...             ...  \n",
       "9049                               NaN  Positive emotion               1  \n",
       "9054                               NaN  Positive emotion               1  \n",
       "9061                              iPad  Positive emotion               1  \n",
       "9064                             Apple  Positive emotion               1  \n",
       "9080   Other Google product or service  Negative emotion               0  \n",
       "\n",
       "[1166 rows x 4 columns]"
      ]
     },
     "execution_count": 24,
     "metadata": {},
     "output_type": "execute_result"
    }
   ],
   "source": [
    "df"
   ]
  },
  {
   "cell_type": "markdown",
   "metadata": {},
   "source": [
    "Okay! Now after cleaning all the unnecessary elements of data that ML algorithms wouldn't benefit from, we can now change the text of the tweets to machine language – numbers. Let's go!"
   ]
  },
  {
   "cell_type": "markdown",
   "metadata": {},
   "source": [
    "## Text vectorization"
   ]
  },
  {
   "cell_type": "markdown",
   "metadata": {},
   "source": [
    "For the eager ones reading this notebook and having no idea what does text vectorization mean this link will help you :)\n",
    "\n",
    "https://www.tensorflow.org/tutorials/text/word2vec"
   ]
  },
  {
   "cell_type": "code",
   "execution_count": 25,
   "metadata": {},
   "outputs": [],
   "source": [
    "from sklearn.feature_extraction.text import TfidfVectorizer\n",
    "from sklearn.model_selection import train_test_split\n",
    "\n",
    "#vectorizing texts of tweets\n",
    "\n",
    "vectorizer = TfidfVectorizer(lowercase=False)\n",
    "\n",
    "sentences, oneHot = df.tweet_text.to_numpy(), df.one_hot_vector.to_numpy()\n",
    "\n",
    "vectorizer.fit(sentences)\n",
    "vectorized = vectorizer.transform(sentences)\n",
    "\n",
    "procent = int(oneHot.shape[0] * .8)\n",
    "\n",
    "#splitting data for trainig (80%) and testing (20%)\n",
    "\n",
    "X_train, y_train = vectorized[:procent], oneHot[:procent]\n",
    "X_test, y_test = vectorized[procent:], oneHot[procent:]"
   ]
  },
  {
   "cell_type": "code",
   "execution_count": 26,
   "metadata": {},
   "outputs": [
    {
     "name": "stdout",
     "output_type": "stream",
     "text": [
      "  (0, 3222)\t0.3805416374926954\n",
      "  (0, 3174)\t0.35282386637268254\n",
      "  (0, 2819)\t0.41066682555668094\n",
      "  (0, 2200)\t0.41066682555668094\n",
      "  (0, 1909)\t0.2641231193219984\n",
      "  (0, 1387)\t0.41066682555668094\n",
      "  (0, 678)\t0.39370119945641874\n"
     ]
    }
   ],
   "source": [
    "print(X_train[0])"
   ]
  },
  {
   "cell_type": "markdown",
   "metadata": {},
   "source": [
    "## Implementing shallow algorithms for comparison"
   ]
  },
  {
   "cell_type": "markdown",
   "metadata": {},
   "source": [
    "Now let's start with the scrambled eggs of machine learning – Logistic Regression.\n",
    "\n",
    "It's useful to compare other ML algorithms results to the results of Logistic Regression/Linear Regression to see how well our model \"understands\" the data."
   ]
  },
  {
   "cell_type": "code",
   "execution_count": 27,
   "metadata": {},
   "outputs": [
    {
     "name": "stdout",
     "output_type": "stream",
     "text": [
      "Accuracy 0.70\n"
     ]
    }
   ],
   "source": [
    "from sklearn.linear_model import LogisticRegression\n",
    "\n",
    "model_lr = LogisticRegression()\n",
    "\n",
    "model_lr.fit(X_train, y_train)\n",
    "Linearscore = model_lr.score(X_test, y_test)\n",
    "\n",
    "print(f'Accuracy {Linearscore:.2f}')"
   ]
  },
  {
   "cell_type": "markdown",
   "metadata": {},
   "source": [
    "Another shallow algorithm: Support Vector Machines."
   ]
  },
  {
   "cell_type": "code",
   "execution_count": 28,
   "metadata": {},
   "outputs": [
    {
     "name": "stdout",
     "output_type": "stream",
     "text": [
      "Accuracy: 0.69\n"
     ]
    }
   ],
   "source": [
    "from sklearn.svm import SVC\n",
    "\n",
    "model_svm = SVC()\n",
    "model_svm.fit(X_train, y_train)\n",
    "SVM_score = model_svm.score(X_test, y_test)\n",
    "\n",
    "print(f'Accuracy: {SVM_score:.2f}')"
   ]
  },
  {
   "cell_type": "markdown",
   "metadata": {},
   "source": [
    "Well, this was disappointing. Let's try something more exciting – Deep Neural Networks!"
   ]
  },
  {
   "cell_type": "markdown",
   "metadata": {},
   "source": [
    "## Creating deep neural network"
   ]
  },
  {
   "cell_type": "code",
   "execution_count": 29,
   "metadata": {},
   "outputs": [
    {
     "name": "stdout",
     "output_type": "stream",
     "text": [
      "Model: \"sequential\"\n",
      "_________________________________________________________________\n",
      " Layer (type)                Output Shape              Param #   \n",
      "=================================================================\n",
      " dense (Dense)               (None, 3)                 10530     \n",
      "                                                                 \n",
      " dense_1 (Dense)             (None, 5)                 20        \n",
      "                                                                 \n",
      " dense_2 (Dense)             (None, 1)                 6         \n",
      "                                                                 \n",
      "=================================================================\n",
      "Total params: 10,556\n",
      "Trainable params: 10,556\n",
      "Non-trainable params: 0\n",
      "_________________________________________________________________\n"
     ]
    },
    {
     "name": "stderr",
     "output_type": "stream",
     "text": [
      "2022-08-07 08:46:49.476515: I tensorflow/core/platform/cpu_feature_guard.cc:193] This TensorFlow binary is optimized with oneAPI Deep Neural Network Library (oneDNN) to use the following CPU instructions in performance-critical operations:  AVX2 FMA\n",
      "To enable them in other operations, rebuild TensorFlow with the appropriate compiler flags.\n"
     ]
    }
   ],
   "source": [
    "from tensorflow import keras\n",
    "from tensorflow.keras import layers, callbacks\n",
    "\n",
    "inputSize = X_train.shape[1]\n",
    "\n",
    "early_stopping = callbacks.EarlyStopping(\n",
    "    min_delta=0.001,\n",
    "    patience=50,\n",
    "    restore_best_weights=True,\n",
    ")\n",
    "\n",
    "model_dl = keras.Sequential([\n",
    "    layers.Dense(3, activation='relu', input_dim=inputSize),\n",
    "    layers.Dense(5, activation='relu'),    \n",
    "    layers.Dense(1, activation='sigmoid'),\n",
    "])\n",
    "\n",
    "model_dl.compile(\n",
    "    optimizer='adam',\n",
    "    loss='binary_crossentropy',\n",
    "    metrics=['binary_accuracy'],\n",
    ")\n",
    "\n",
    "model_dl.summary()"
   ]
  },
  {
   "cell_type": "markdown",
   "metadata": {},
   "source": [
    "As you can see we have a lot of parameters to train on (Trainable params). So let's do it!"
   ]
  },
  {
   "cell_type": "code",
   "execution_count": 30,
   "metadata": {},
   "outputs": [],
   "source": [
    "def summarize(history):\n",
    "    history_plt = pd.DataFrame(history.history)\n",
    "    history_plt.loc[5:, ['loss', 'val_loss']].plot()\n",
    "    history_plt.loc[5:, ['binary_accuracy', 'val_binary_accuracy']].plot()\n",
    "\n",
    "    print((\"Best Validation Loss: {:0.4f}\" +\\\n",
    "        \"\\nBest Validation Accuracy: {:0.4f}\")\\\n",
    "        .format(history_plt['val_loss'].min(), \n",
    "                history_plt['val_binary_accuracy'].max()))"
   ]
  },
  {
   "cell_type": "code",
   "execution_count": 31,
   "metadata": {},
   "outputs": [
    {
     "name": "stderr",
     "output_type": "stream",
     "text": [
      "/Users/potato/.pyenv/versions/3.9.0/lib/python3.9/site-packages/tensorflow/python/framework/indexed_slices.py:444: UserWarning: Converting sparse IndexedSlices(IndexedSlices(indices=Tensor(\"gradient_tape/sequential/dense/embedding_lookup_sparse/Reshape_1:0\", shape=(None,), dtype=int32), values=Tensor(\"gradient_tape/sequential/dense/embedding_lookup_sparse/Reshape:0\", shape=(None, 3), dtype=float32), dense_shape=Tensor(\"gradient_tape/sequential/dense/embedding_lookup_sparse/Cast:0\", shape=(2,), dtype=int32))) to a dense Tensor of unknown shape. This may consume a large amount of memory.\n",
      "  warnings.warn(\n"
     ]
    },
    {
     "name": "stdout",
     "output_type": "stream",
     "text": [
      "Best Validation Loss: 0.5804\n",
      "Best Validation Accuracy: 0.7137\n"
     ]
    },
    {
     "data": {
      "image/png": "[encoded data removed]",
      "text/plain": [
       "<Figure size 432x288 with 1 Axes>"
      ]
     },
     "metadata": {
      "needs_background": "light"
     },
     "output_type": "display_data"
    },
    {
     "data": {
      "image/png": "[encoded data removed]",
      "text/plain": [
       "<Figure size 432x288 with 1 Axes>"
      ]
     },
     "metadata": {
      "needs_background": "light"
     },
     "output_type": "display_data"
    }
   ],
   "source": [
    "history_dl = model_dl.fit(\n",
    "    X_train, y_train,\n",
    "    validation_data=(X_test, y_test),\n",
    "    batch_size=18,\n",
    "    epochs=1000,\n",
    "    callbacks=[early_stopping],\n",
    "    verbose=0,\n",
    ")\n",
    "\n",
    "summarize(history_dl)"
   ]
  },
  {
   "cell_type": "markdown",
   "metadata": {},
   "source": [
    "Let's try with different nerual net"
   ]
  },
  {
   "cell_type": "code",
   "execution_count": 32,
   "metadata": {},
   "outputs": [],
   "source": [
    "import tensorflow_hub as hub\n",
    "tfhub_handle_encoder = 'https://tfhub.dev/tensorflow/small_bert/bert_en_uncased_L-2_H-512_A-8/1'\n",
    "tfhub_handle_preprocess = 'https://tfhub.dev/tensorflow/bert_en_uncased_preprocess/3'"
   ]
  },
  {
   "cell_type": "code",
   "execution_count": 33,
   "metadata": {},
   "outputs": [
    {
     "name": "stdout",
     "output_type": "stream",
     "text": [
      "Model: \"sequential_1\"\n",
      "_________________________________________________________________\n",
      " Layer (type)                Output Shape              Param #   \n",
      "=================================================================\n",
      " embedding (Embedding)       (None, None, 64)          224576    \n",
      "                                                                 \n",
      " bidirectional (Bidirectiona  (None, 512)              164352    \n",
      " l)                                                              \n",
      "                                                                 \n",
      " dense_3 (Dense)             (None, 64)                32832     \n",
      "                                                                 \n",
      " dense_4 (Dense)             (None, 1)                 65        \n",
      "                                                                 \n",
      "=================================================================\n",
      "Total params: 421,825\n",
      "Trainable params: 421,825\n",
      "Non-trainable params: 0\n",
      "_________________________________________________________________\n"
     ]
    }
   ],
   "source": [
    "model_rc = keras.Sequential([\n",
    "    layers.Embedding(input_dim=inputSize,output_dim=64),\n",
    "    layers.Bidirectional(layers.SimpleRNN(256)),\n",
    "    layers.Dense(64, activation='relu' ),\n",
    "    layers.Dense(1, activation='sigmoid')\n",
    "])\n",
    "\n",
    "model_rc.compile(\n",
    "    optimizer='adam',\n",
    "    loss='binary_crossentropy',\n",
    "    metrics=['binary_accuracy'],\n",
    ")\n",
    "\n",
    "model_rc.summary()"
   ]
  },
  {
   "cell_type": "code",
   "execution_count": 34,
   "metadata": {},
   "outputs": [
    {
     "name": "stdout",
     "output_type": "stream",
     "text": [
      "Best Validation Loss: 0.5685\n",
      "Best Validation Accuracy: 0.7179\n"
     ]
    },
    {
     "data": {
      "image/png": "[encoded data removed]",
      "text/plain": [
       "<Figure size 432x288 with 1 Axes>"
      ]
     },
     "metadata": {
      "needs_background": "light"
     },
     "output_type": "display_data"
    },
    {
     "data": {
      "image/png": "[encoded data removed]",
      "text/plain": [
       "<Figure size 432x288 with 1 Axes>"
      ]
     },
     "metadata": {
      "needs_background": "light"
     },
     "output_type": "display_data"
    }
   ],
   "source": [
    "history_rc = model_dl.fit(\n",
    "    X_train, y_train,\n",
    "    validation_data=(X_test, y_test),\n",
    "    batch_size=18,\n",
    "    epochs=1000,\n",
    "    callbacks=[early_stopping],\n",
    "    verbose=0,\n",
    ")\n",
    "\n",
    "summarize(history_rc)"
   ]
  },
  {
   "cell_type": "markdown",
   "metadata": {},
   "source": [
    "Not great! I thought that Neural Networks should solve any problem, why are they getting such poor results? Well, I think that it comes from the nature of the text. It is important to remember what came before the word you are just reading. In other words – words by them selves don't carry a lot of meaning, but sentences do, that's why we need to analyse whole sentences. Recuren Neural Networks could work, but they can't remember this far back. We will try Transformers based Neural Network."
   ]
  },
  {
   "cell_type": "code",
   "execution_count": 36,
   "metadata": {},
   "outputs": [],
   "source": [
    "from  transformers import AutoTokenizer, AutoModelForSequenceClassification\n",
    "from sklearn.metrics import accuracy_score\n",
    "import torch"
   ]
  },
  {
   "cell_type": "code",
   "execution_count": 37,
   "metadata": {},
   "outputs": [
    {
     "data": {
      "application/vnd.jupyter.widget-view+json": {
       "model_id": "a67afbffce9c487e8aa95b59cf4b2694",
       "version_major": 2,
       "version_minor": 0
      },
      "text/plain": [
       "Downloading tokenizer_config.json:   0%|          | 0.00/39.0 [00:00<?, ?B/s]"
      ]
     },
     "metadata": {},
     "output_type": "display_data"
    },
    {
     "data": {
      "application/vnd.jupyter.widget-view+json": {
       "model_id": "3f84d6363a4142759d16df7a44a927ab",
       "version_major": 2,
       "version_minor": 0
      },
      "text/plain": [
       "Downloading config.json:   0%|          | 0.00/953 [00:00<?, ?B/s]"
      ]
     },
     "metadata": {},
     "output_type": "display_data"
    },
    {
     "data": {
      "application/vnd.jupyter.widget-view+json": {
       "model_id": "ba2968130fb54ba9bd54a21eb18a7cef",
       "version_major": 2,
       "version_minor": 0
      },
      "text/plain": [
       "Downloading vocab.txt:   0%|          | 0.00/851k [00:00<?, ?B/s]"
      ]
     },
     "metadata": {},
     "output_type": "display_data"
    },
    {
     "data": {
      "application/vnd.jupyter.widget-view+json": {
       "model_id": "fb9fcb8b681845418edb0c11ea9531a5",
       "version_major": 2,
       "version_minor": 0
      },
      "text/plain": [
       "Downloading special_tokens_map.json:   0%|          | 0.00/112 [00:00<?, ?B/s]"
      ]
     },
     "metadata": {},
     "output_type": "display_data"
    },
    {
     "data": {
      "application/vnd.jupyter.widget-view+json": {
       "model_id": "d6cbb9453fb84e02aa3a1fc4e963a9ef",
       "version_major": 2,
       "version_minor": 0
      },
      "text/plain": [
       "Downloading pytorch_model.bin:   0%|          | 0.00/638M [00:00<?, ?B/s]"
      ]
     },
     "metadata": {},
     "output_type": "display_data"
    }
   ],
   "source": [
    "tokenizer = AutoTokenizer.from_pretrained('nlptown/bert-base-multilingual-uncased-sentiment')\n",
    "\n",
    "model_tf = AutoModelForSequenceClassification.from_pretrained('nlptown/bert-base-multilingual-uncased-sentiment')\n",
    "\n",
    "tokens = tokenizer.encode(df.tweet_text[0], return_tensors='pt')"
   ]
  },
  {
   "cell_type": "code",
   "execution_count": 38,
   "metadata": {},
   "outputs": [],
   "source": [
    "def sentiment_score(review):\n",
    "    tokens = tokenizer.encode(review, return_tensors='pt')\n",
    "    result = model_tf(tokens)\n",
    "    return int(torch.argmax(result.logits))+1"
   ]
  },
  {
   "cell_type": "code",
   "execution_count": 39,
   "metadata": {},
   "outputs": [],
   "source": [
    "def toBinary(result):\n",
    "    if result < 4:\n",
    "        return 0\n",
    "    elif result >= 4:\n",
    "        return 1"
   ]
  },
  {
   "cell_type": "code",
   "execution_count": 40,
   "metadata": {},
   "outputs": [],
   "source": [
    "df['transformer'] = df['tweet_text'].apply(lambda x: toBinary(sentiment_score(x)))"
   ]
  },
  {
   "cell_type": "code",
   "execution_count": 41,
   "metadata": {},
   "outputs": [],
   "source": [
    "y_pred, y_true = df['transformer'].to_numpy(), df['one_hot_vector'].to_numpy()"
   ]
  },
  {
   "cell_type": "code",
   "execution_count": 42,
   "metadata": {},
   "outputs": [
    {
     "name": "stdout",
     "output_type": "stream",
     "text": [
      "Accuracy: 0.74\n"
     ]
    }
   ],
   "source": [
    "print(\"Accuracy: {:.2f}\".format(accuracy_score(y_true, y_pred)))"
   ]
  },
  {
   "cell_type": "markdown",
   "metadata": {},
   "source": [
    "The score may not be satisfactory, but it is important to remember that This model was validated on whole data. To get 75% accuracy on a 4 data validation set is much easier than on a 1000 validation set. Also, the ease of usage is complementary to this solution. We just downloaded a really good model and were able to use it.\n",
    "\n",
    "It is important to remember that cleanness of the data set is the most important part of machine learning. If it will be too noisy (too incoherent, with no real values that you can distinguish it) there will be no progress in the loss and accuracy of the ML model."
   ]
  },
  {
   "cell_type": "markdown",
   "metadata": {},
   "source": [
    "Thank you for reading."
   ]
  }
 ],
 "metadata": {
  "interpreter": {
   "hash": "46614448720c4d8fb1354dd960ea687e0a3a92196ecbe0f0433d6e43266162b0"
  },
  "kernelspec": {
   "display_name": "Python 3.9.0 64-bit ('3.9.0')",
   "language": "python",
   "name": "python3"
  },
  "language_info": {
   "codemirror_mode": {
    "name": "ipython",
    "version": 3
   },
   "file_extension": ".py",
   "mimetype": "text/x-python",
   "name": "python",
   "nbconvert_exporter": "python",
   "pygments_lexer": "ipython3",
   "version": "3.9.0"
  },
  "orig_nbformat": 4
 },
 "nbformat": 4,
 "nbformat_minor": 2
}
